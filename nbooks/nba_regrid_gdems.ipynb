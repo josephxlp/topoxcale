{
 "cells": [
  {
   "cell_type": "code",
   "execution_count": 1,
   "metadata": {},
   "outputs": [],
   "source": [
    "from utilenames import tilenames_mkd\n",
    "from os.path import join \n",
    "from os import makedirs\n",
    "from glob import glob \n",
<<<<<<< HEAD
    "from uinterp import riofill"
=======
    "from uinterp import riofill\n",
    "from ufuncs import get_raster_info,gdal_regrid\n",
    "from uvars import gdsm_v_fn, gdtm_v_fn"
>>>>>>> utils
   ]
  },
  {
   "cell_type": "code",
   "execution_count": 2,
   "metadata": {},
   "outputs": [],
   "source": [
<<<<<<< HEAD
    "from ufuncs import get_raster_info,gdal_regrid\n",
    "from uvars import gdsm_v_fn, gdtm_v_fn"
=======
    "varname = \"tdem_dem\"\n",
    "roitilenames = tilenames_mkd\n",
    "outdir = \"/home/ljp238/Downloads/mkg_sprint/ROI\"\n",
    "indir = \"/media/ljp238/12TBWolf/BRCHIEVE/TILES12\"\n",
    "makedirs(outdir, exist_ok=True)\n",
    "xres, yres = 0.01057350068885258912,-0.01057350068885258912 \n",
    "t_epsg='EPSG:4326' # 4326 4979\n",
    "mode=\"num\""
>>>>>>> utils
   ]
  },
  {
   "cell_type": "code",
   "execution_count": 3,
   "metadata": {},
   "outputs": [],
   "source": [
<<<<<<< HEAD
    "varname = \"tdem_dem\"\n",
    "roitilenames = tilenames_mkd\n",
    "outdir = \"/home/ljp238/Downloads/mkg_sprint/ROI\"\n",
    "indir = \"/media/ljp238/12TBWolf/BRCHIEVE/TILES12\""
   ]
  },
  {
   "cell_type": "code",
   "execution_count": 4,
   "metadata": {},
   "outputs": [],
   "source": [
=======
>>>>>>> utils
    "varpath = f\"{indir}/*/*{varname}.tif\"\n",
    "varfiles = glob(varpath)\n",
    "roivarfiles = [fi for fi in varfiles for t in roitilenames if t in fi]"
   ]
  },
  {
<<<<<<< HEAD
   "cell_type": "code",
   "execution_count": 5,
   "metadata": {},
   "outputs": [],
   "source": [
    "xres, yres = 0.01057350068885258912,-0.01057350068885258912 \n",
    "t_epsg='EPSG:4326' # 4326 4979\n",
    "mode=\"num\""
   ]
  },
  {
=======
>>>>>>> utils
   "cell_type": "markdown",
   "metadata": {},
   "source": [
    "# A. REGRIDING"
   ]
  },
  {
   "cell_type": "code",
<<<<<<< HEAD
   "execution_count": 7,
=======
   "execution_count": 4,
>>>>>>> utils
   "metadata": {},
   "outputs": [
    {
     "name": "stdout",
     "output_type": "stream",
     "text": [
      "Source NoData Value: -9999.0\n",
      "Destination NoData Value: -9999.0\n",
<<<<<<< HEAD
      "Source NoData Value: -9999.0\n",
      "Destination NoData Value: -9999.0\n",
      "already created /home/ljp238/Downloads/mkg_sprint/ROI/TILES/N09E105/N09E105_gdtm_riofill_0.tif\n",
      "already created /home/ljp238/Downloads/mkg_sprint/ROI/TILES/N09E105/N09E105_gdsm_riofill_0.tif\n",
      "Source NoData Value: -9999.0\n",
      "Destination NoData Value: -9999.0\n",
      "Source NoData Value: -9999.0\n",
      "Destination NoData Value: -9999.0\n"
     ]
    },
    {
     "name": "stderr",
     "output_type": "stream",
     "text": [
      "ERROR 1: Output dataset /home/ljp238/Downloads/mkg_sprint/ROI/TILES/N09E105/N09E105_gdtm_void.tif exists,\n",
      "but some command line options were provided indicating a new dataset\n",
      "should be created.  Please delete existing dataset and run again.\n",
      "\n",
      "ERROR 1: Output dataset /home/ljp238/Downloads/mkg_sprint/ROI/TILES/N09E105/N09E105_gdsm_void.tif exists,\n",
      "but some command line options were provided indicating a new dataset\n",
      "should be created.  Please delete existing dataset and run again.\n",
      "\n",
      "ERROR 1: Output dataset /home/ljp238/Downloads/mkg_sprint/ROI/TILES/N09E106/N09E106_gdtm_void.tif exists,\n",
      "but some command line options were provided indicating a new dataset\n",
      "should be created.  Please delete existing dataset and run again.\n",
      "\n",
      "ERROR 1: Output dataset /home/ljp238/Downloads/mkg_sprint/ROI/TILES/N09E106/N09E106_gdsm_void.tif exists,\n",
      "but some command line options were provided indicating a new dataset\n",
      "should be created.  Please delete existing dataset and run again.\n",
      "\n"
     ]
    },
    {
     "name": "stdout",
     "output_type": "stream",
     "text": [
      "already created /home/ljp238/Downloads/mkg_sprint/ROI/TILES/N09E106/N09E106_gdtm_riofill_0.tif\n",
      "already created /home/ljp238/Downloads/mkg_sprint/ROI/TILES/N09E106/N09E106_gdsm_riofill_0.tif\n",
      "Source NoData Value: -9999.0\n",
      "Destination NoData Value: -9999.0\n",
      "Source NoData Value: -9999.0\n",
      "Destination NoData Value: -9999.0\n",
      "already created /home/ljp238/Downloads/mkg_sprint/ROI/TILES/N10E104/N10E104_gdtm_riofill_0.tif\n",
      "already created /home/ljp238/Downloads/mkg_sprint/ROI/TILES/N10E104/N10E104_gdsm_riofill_0.tif\n",
      "Source NoData Value: -9999.0\n",
      "Destination NoData Value: -9999.0\n",
      "Source NoData Value: -9999.0\n",
      "Destination NoData Value: -9999.0\n"
     ]
    },
    {
     "name": "stderr",
     "output_type": "stream",
     "text": [
      "ERROR 1: Output dataset /home/ljp238/Downloads/mkg_sprint/ROI/TILES/N10E104/N10E104_gdtm_void.tif exists,\n",
      "but some command line options were provided indicating a new dataset\n",
      "should be created.  Please delete existing dataset and run again.\n",
      "\n",
      "ERROR 1: Output dataset /home/ljp238/Downloads/mkg_sprint/ROI/TILES/N10E104/N10E104_gdsm_void.tif exists,\n",
      "but some command line options were provided indicating a new dataset\n",
      "should be created.  Please delete existing dataset and run again.\n",
      "\n",
      "ERROR 1: Output dataset /home/ljp238/Downloads/mkg_sprint/ROI/TILES/N10E105/N10E105_gdtm_void.tif exists,\n",
      "but some command line options were provided indicating a new dataset\n",
      "should be created.  Please delete existing dataset and run again.\n",
      "\n",
      "ERROR 1: Output dataset /home/ljp238/Downloads/mkg_sprint/ROI/TILES/N10E105/N10E105_gdsm_void.tif exists,\n",
      "but some command line options were provided indicating a new dataset\n",
      "should be created.  Please delete existing dataset and run again.\n",
      "\n"
     ]
    },
    {
     "name": "stdout",
     "output_type": "stream",
     "text": [
      "already created /home/ljp238/Downloads/mkg_sprint/ROI/TILES/N10E105/N10E105_gdtm_riofill_0.tif\n",
      "already created /home/ljp238/Downloads/mkg_sprint/ROI/TILES/N10E105/N10E105_gdsm_riofill_0.tif\n",
      "Source NoData Value: -9999.0\n",
      "Destination NoData Value: -9999.0\n",
      "Source NoData Value: -9999.0\n",
      "Destination NoData Value: -9999.0\n",
      "already created /home/ljp238/Downloads/mkg_sprint/ROI/TILES/N10E106/N10E106_gdtm_riofill_0.tif\n",
      "already created /home/ljp238/Downloads/mkg_sprint/ROI/TILES/N10E106/N10E106_gdsm_riofill_0.tif\n"
     ]
    },
    {
     "name": "stderr",
     "output_type": "stream",
     "text": [
      "ERROR 1: Output dataset /home/ljp238/Downloads/mkg_sprint/ROI/TILES/N10E106/N10E106_gdtm_void.tif exists,\n",
      "but some command line options were provided indicating a new dataset\n",
      "should be created.  Please delete existing dataset and run again.\n",
      "\n",
      "ERROR 1: Output dataset /home/ljp238/Downloads/mkg_sprint/ROI/TILES/N10E106/N10E106_gdsm_void.tif exists,\n",
      "but some command line options were provided indicating a new dataset\n",
      "should be created.  Please delete existing dataset and run again.\n",
      "\n"
=======
      "Creating output file that is 96P x 95L.\n",
      "Processing /media/ljp238/12TBWolf/ARCHIEVE/GEDI/GRID/comprexn/GEDI_L3_be/GEDI03_elev_lowestmode_mean_2019108_2022019_002_03_EPSG4326.tif [1/1] : 0...10...20...30...40...50...60...70...80...90...100 - done.\n",
      "Source NoData Value: -9999.0\n",
      "Destination NoData Value: -9999.0\n",
      "Creating output file that is 96P x 95L.\n",
      "Processing /media/ljp238/12TBWolf/ARCHIEVE/GEDI/GRID/comprexn/GEDI_L3_vh/GEDI03_rh100_mean_2019108_2022019_002_03_EPSG4326.tif [1/1] : 0...10...20...30...40...50...60...70...80...90...100 - done.\n",
      "Source NoData Value: -9999.0\n",
      "Destination NoData Value: -9999.0\n",
      "Creating output file that is 95P x 95L.\n",
      "Processing /media/ljp238/12TBWolf/ARCHIEVE/GEDI/GRID/comprexn/GEDI_L3_be/GEDI03_elev_lowestmode_mean_2019108_2022019_002_03_EPSG4326.tif [1/1] : 0...10...20...30...40...50...60...70...80...90...100 - done.\n",
      "Source NoData Value: -9999.0\n",
      "Destination NoData Value: -9999.0\n",
      "Creating output file that is 95P x 95L.\n",
      "Processing /media/ljp238/12TBWolf/ARCHIEVE/GEDI/GRID/comprexn/GEDI_L3_vh/GEDI03_rh100_mean_2019108_2022019_002_03_EPSG4326.tif [1/1] : 0...10...20...30...40...50...60...70...80...90...100 - done.\n",
      "Source NoData Value: -9999.0\n",
      "Destination NoData Value: -9999.0\n",
      "Creating output file that is 96P x 96L.\n",
      "Processing /media/ljp238/12TBWolf/ARCHIEVE/GEDI/GRID/comprexn/GEDI_L3_be/GEDI03_elev_lowestmode_mean_2019108_2022019_002_03_EPSG4326.tif [1/1] : 0...10...20...30...40...50...60...70...80...90...100 - done.\n",
      "Source NoData Value: -9999.0\n",
      "Destination NoData Value: -9999.0\n",
      "Creating output file that is 96P x 96L.\n",
      "Processing /media/ljp238/12TBWolf/ARCHIEVE/GEDI/GRID/comprexn/GEDI_L3_vh/GEDI03_rh100_mean_2019108_2022019_002_03_EPSG4326.tif [1/1] : 0...10...20...30...40...50...60...70...80...90...100 - done.\n",
      "Source NoData Value: -9999.0\n",
      "Destination NoData Value: -9999.0\n",
      "Creating output file that is 96P x 96L.\n",
      "Processing /media/ljp238/12TBWolf/ARCHIEVE/GEDI/GRID/comprexn/GEDI_L3_be/GEDI03_elev_lowestmode_mean_2019108_2022019_002_03_EPSG4326.tif [1/1] : 0...10...20...30...40...50...60...70...80...90...100 - done.\n",
      "Source NoData Value: -9999.0\n",
      "Destination NoData Value: -9999.0\n",
      "Creating output file that is 96P x 96L.\n",
      "Processing /media/ljp238/12TBWolf/ARCHIEVE/GEDI/GRID/comprexn/GEDI_L3_vh/GEDI03_rh100_mean_2019108_2022019_002_03_EPSG4326.tif [1/1] : 0...10...20...30...40...50...60...70...80...90...100 - done.\n",
      "Source NoData Value: -9999.0\n",
      "Destination NoData Value: -9999.0\n",
      "Creating output file that is 95P x 96L.\n",
      "Processing /media/ljp238/12TBWolf/ARCHIEVE/GEDI/GRID/comprexn/GEDI_L3_be/GEDI03_elev_lowestmode_mean_2019108_2022019_002_03_EPSG4326.tif [1/1] : 0...10...20...30...40...50...60...70...80...90...100 - done.\n",
      "Source NoData Value: -9999.0\n",
      "Destination NoData Value: -9999.0\n",
      "Creating output file that is 95P x 96L.\n",
      "Processing /media/ljp238/12TBWolf/ARCHIEVE/GEDI/GRID/comprexn/GEDI_L3_vh/GEDI03_rh100_mean_2019108_2022019_002_03_EPSG4326.tif [1/1] : 0...10...20...30...40...50...60...70...80...90...100 - done.\n"
>>>>>>> utils
     ]
    }
   ],
   "source": [
    "gdsmf_tiles = []\n",
    "gdtmf_tiles = []\n",
    "for fi in roivarfiles:\n",
    "    tilename = fi.split('/')[-2]\n",
    "    tile_dir = join(outdir,'TILES', tilename)\n",
    "    #print(tile_dir)\n",
    "    makedirs(tile_dir, exist_ok=True)\n",
    "    _, _, _, xmin, xmax, ymin, ymax, _, _ = get_raster_info(fi)\n",
    "    gdsmv_tile = f\"{tile_dir}/{tilename}_gdsm_void.tif\"\n",
    "    gdtmv_tile = f\"{tile_dir}/{tilename}_gdtm_void.tif\"\n",
    "    \n",
    "    gdal_regrid(gdtm_v_fn, gdtmv_tile, xmin, ymin, xmax, ymax, xres, yres,mode, t_epsg, overwrite=False)\n",
    "    gdal_regrid(gdsm_v_fn, gdsmv_tile, xmin, ymin, xmax, ymax, xres, yres,mode, t_epsg, overwrite=False)\n",
    "\n",
    "    gdsmf_tile = gdsmv_tile.replace('void.tif', 'riofill.tif')\n",
    "    gdtmf_tile = gdtmv_tile.replace('void.tif', 'riofill.tif')\n",
    "\n",
    "    riofill(gdtmv_tile, gdtmf_tile, si=0)\n",
    "    riofill(gdsmv_tile, gdsmf_tile, si=0)\n",
    "    gdsmf_tiles.append(gdsmf_tile)\n",
    "    gdtmf_tiles.append(gdtmf_tile)"
   ]
  },
  {
   "cell_type": "markdown",
   "metadata": {},
   "source": [
    "# B. DOWNSCALING"
   ]
  },
  {
   "cell_type": "markdown",
   "metadata": {},
   "source": [
    "the code from the other guy - last year both of them "
   ]
  },
  {
   "cell_type": "code",
   "execution_count": null,
   "metadata": {},
   "outputs": [],
   "source": []
  }
 ],
 "metadata": {
  "kernelspec": {
   "display_name": "agluon",
   "language": "python",
   "name": "python3"
  },
  "language_info": {
   "codemirror_mode": {
    "name": "ipython",
    "version": 3
   },
   "file_extension": ".py",
   "mimetype": "text/x-python",
   "name": "python",
   "nbconvert_exporter": "python",
   "pygments_lexer": "ipython3",
   "version": "3.11.11"
  }
 },
 "nbformat": 4,
 "nbformat_minor": 2
}
