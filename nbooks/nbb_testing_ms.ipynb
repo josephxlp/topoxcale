{
 "cells": [
  {
   "cell_type": "code",
   "execution_count": 1,
   "metadata": {},
   "outputs": [],
   "source": [
    "import sys \n",
    "from uvars import topoxcale_dir \n",
    "sys.path.append(topoxcale_dir)\n",
    "from topoxcale.metrics_surface import write_surface_metrics # change this name\n"
   ]
  },
  {
   "cell_type": "code",
   "execution_count": 2,
   "metadata": {},
   "outputs": [],
   "source": [
    "apth = \"/home/ljp238/Downloads/mkg_sprint/ROI/TILES/N09E105/N09E105_gdtm_riofill_0_MLD.tif\"\n",
    "bpth = \"/home/ljp238/Downloads/mkg_sprint/ROI/TILES/N09E105/N09E105_gdtm_riofill_0_MLD_residuals.tif\"\n",
    "\n",
    "apth = \"/home/ljp238/Downloads/mkg_sprint/ROI/TILES/N09E105/N09E105_gdsm_riofill_0.tif\"\n",
    "bpth = \"/home/ljp238/Downloads/mkg_sprint/ROI/TILES/N09E105/N09E105_gdtm_riofill_0.tif\""
   ]
  },
  {
   "cell_type": "code",
   "execution_count": 5,
   "metadata": {},
   "outputs": [],
   "source": [
    "r2path = \"/home/ljp238/Downloads/mkg_sprint/ROI/TILES/N09E105/N09E105_R2.tif\"\n",
    "respath = \"/home/ljp238/Downloads/mkg_sprint/ROI/TILES/N09E105/N09E105_RES.tif\"\n",
    "rmsepath = \"/home/ljp238/Downloads/mkg_sprint/ROI/TILES/N09E105/N09E105_RMSE.tif\"\n",
    "# R2 is failling due to overflow error "
   ]
  },
  {
   "cell_type": "code",
   "execution_count": 6,
   "metadata": {},
   "outputs": [
    {
     "name": "stdout",
     "output_type": "stream",
     "text": [
      "Metrics computed in 0.82 seconds.\n",
      "R² raster written in 0.00 seconds.\n",
      "RMSE raster written in 0.00 seconds.\n",
      "Residuals raster written in 0.00 seconds.\n",
      "All outputs saved: \n",
      "R²='/home/ljp238/Downloads/mkg_sprint/ROI/TILES/N09E105/N09E105_R2.tif', \n",
      "RMSE='/home/ljp238/Downloads/mkg_sprint/ROI/TILES/N09E105/N09E105_RMSE.tif', \n",
      "Residuals='/home/ljp238/Downloads/mkg_sprint/ROI/TILES/N09E105/N09E105_RES.tif'.\n"
     ]
    }
   ],
   "source": [
    "write_surface_metrics(pred_raster_path=apth, \n",
    "                      obs_raster_path=bpth, \n",
    "                      output_r_squared_path=r2path, \n",
    "                      output_rmse_path=rmsepath, \n",
    "                      output_residuals_path=respath)"
   ]
  },
  {
   "cell_type": "code",
   "execution_count": null,
   "metadata": {},
   "outputs": [],
   "source": []
  },
  {
   "cell_type": "code",
   "execution_count": null,
   "metadata": {},
   "outputs": [
    {
     "name": "stderr",
     "output_type": "stream",
     "text": [
      "/home/ljp238/Documents/UoE/topoxcale/topoxcale/metrics_surface.py:40: RuntimeWarning: divide by zero encountered in scalar divide\n",
      "  return 1 - (ss_residual / ss_total)\n"
     ]
    }
   ],
   "source": [
    "process_rasters(pred_raster_path=apth, \n",
    "                obs_raster_path=bpth, \n",
    "                output_r_squared_path=r2path, \n",
    "                output_residuals_path=respath)"
   ]
  },
  {
   "cell_type": "code",
   "execution_count": null,
   "metadata": {},
   "outputs": [],
   "source": []
  }
 ],
 "metadata": {
  "kernelspec": {
   "display_name": "agluon",
   "language": "python",
   "name": "python3"
  },
  "language_info": {
   "codemirror_mode": {
    "name": "ipython",
    "version": 3
   },
   "file_extension": ".py",
   "mimetype": "text/x-python",
   "name": "python",
   "nbconvert_exporter": "python",
   "pygments_lexer": "ipython3",
   "version": "3.11.11"
  }
 },
 "nbformat": 4,
 "nbformat_minor": 2
}
