{
 "cells": [
  {
   "cell_type": "code",
   "execution_count": 1,
   "metadata": {},
   "outputs": [],
   "source": [
    "import os \n",
    "from glob import glob \n",
    "from utilenames import tilenames_mkd, tilenames_tls"
   ]
  },
  {
   "cell_type": "code",
   "execution_count": 6,
   "metadata": {},
   "outputs": [],
   "source": [
    "from ufuncs import build_vrt\n",
    "from uinterp import riofill"
   ]
  },
  {
   "cell_type": "code",
   "execution_count": 5,
   "metadata": {},
   "outputs": [],
   "source": [
    "def list2vrt(files, txt):\n",
    "    #build_vrt\n",
    "    pass \n",
    "\n",
    "def list2txt(files, txt):\n",
    "    with open(txt, \"w\") as f:\n",
    "        for fi in files:\n",
    "            f.write(fi+\"\\n\")"
   ]
  },
  {
   "cell_type": "code",
   "execution_count": 3,
   "metadata": {},
   "outputs": [],
   "source": [
    "variables = ['gedilow']\n",
    "varname = variables[0]\n",
    "varpath = f\"/media/ljp238/12TBWolf/BRCHIEVE/TILES12/*/*{varname}.tif\"\n",
    "varfiles = glob(varpath)\n",
    "roivarfiles = [fi for fi in varfiles for t in tilenames_mkd if t in fi]"
   ]
  },
  {
   "cell_type": "code",
   "execution_count": 4,
   "metadata": {},
   "outputs": [],
   "source": [
    "outdir = \"/home/ljp238/Downloads/mkg_sprint/BLOCKS\"\n",
    "txt = f\"{outdir}/MKD.txt\"\n",
    "vrt = f\"{outdir}/MKD.vrt\""
   ]
  },
  {
   "cell_type": "code",
   "execution_count": null,
   "metadata": {},
   "outputs": [],
   "source": []
  }
 ],
 "metadata": {
  "kernelspec": {
   "display_name": "agluon",
   "language": "python",
   "name": "python3"
  },
  "language_info": {
   "codemirror_mode": {
    "name": "ipython",
    "version": 3
   },
   "file_extension": ".py",
   "mimetype": "text/x-python",
   "name": "python",
   "nbconvert_exporter": "python",
   "pygments_lexer": "ipython3",
   "version": "3.11.11"
  }
 },
 "nbformat": 4,
 "nbformat_minor": 2
}
