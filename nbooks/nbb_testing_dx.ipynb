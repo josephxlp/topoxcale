{
 "cells": [
  {
   "cell_type": "code",
   "execution_count": 1,
   "metadata": {},
   "outputs": [],
   "source": [
    "import sys \n",
    "from uvars import topoxcale_dir \n",
    "sys.path.append(topoxcale_dir)"
   ]
  },
  {
   "cell_type": "code",
   "execution_count": 2,
   "metadata": {},
   "outputs": [],
   "source": [
    "from topoxcale import mldownxcale"
   ]
  },
  {
   "cell_type": "code",
   "execution_count": null,
   "metadata": {},
   "outputs": [],
   "source": [
    "x_path = \"/media/ljp238/12TBWolf/BRCHIEVE/TILES12/N09E105/N09E105_tdem_dem.tif\"\n",
    "y_path = \"/home/ljp238/Downloads/mkg_sprint/ROI/TILES/N09E105/N09E105_gdtm_riofill_0.tif\"\n",
    "model_name = \"/home/ljp238/Downloads/mkg_sprint/ROI/TILES/N09E105/N09E105_catboost_model.pkl\"\n",
    "out_path = \"/home/ljp238/Downloads/mkg_sprint/ROI/TILES/N09E105/N09E105_gdtm_riofill_0_DX.tif\"\n",
    "n = 0  # Set to 0 to use all data\n",
    "model_params = {'num_rounds': 1000,'verbose': 200} # use num_rounds to the model file should be joblibe too"
   ]
  },
  {
   "cell_type": "code",
   "execution_count": 4,
   "metadata": {},
   "outputs": [
    {
     "name": "stdout",
     "output_type": "stream",
     "text": [
      "Model /home/ljp238/Downloads/mkg_sprint/ROI/TILES/N09E105/N09E105_catboost_model.pkl already exists. Skipping training.\n",
      "Predictions saved to /home/ljp238/Downloads/mkg_sprint/ROI/TILES/N09E105/N09E105_gdtm_riofill_0_DX.tif\n",
      "Resampled /home/ljp238/Downloads/mkg_sprint/ROI/TILES/N09E105/N09E105_gdtm_riofill_0.tif to match /home/ljp238/Downloads/mkg_sprint/ROI/TILES/N09E105/N09E105_gdtm_riofill_0_DX.tif. Saved to /tmp/temp_y_resampled.tif\n",
      "Residuals saved to /home/ljp238/Downloads/mkg_sprint/ROI/TILES/N09E105/N09E105_gdtm_riofill_0_DX_residuals.tif\n",
      "Corrected predictions saved to /home/ljp238/Downloads/mkg_sprint/ROI/TILES/N09E105/N09E105_gdtm_riofill_0_DX_corrected.tif\n"
     ]
    }
   ],
   "source": [
    "mldownxcale(x_path, y_path, model_name, model_params, out_path, n=0)"
   ]
  },
  {
   "cell_type": "code",
   "execution_count": null,
   "metadata": {},
   "outputs": [],
   "source": []
  }
 ],
 "metadata": {
  "kernelspec": {
   "display_name": "agluon",
   "language": "python",
   "name": "python3"
  },
  "language_info": {
   "codemirror_mode": {
    "name": "ipython",
    "version": 3
   },
   "file_extension": ".py",
   "mimetype": "text/x-python",
   "name": "python",
   "nbconvert_exporter": "python",
   "pygments_lexer": "ipython3",
   "version": "3.11.11"
  }
 },
 "nbformat": 4,
 "nbformat_minor": 2
}
