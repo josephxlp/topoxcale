{
 "cells": [
  {
   "cell_type": "code",
<<<<<<< HEAD
   "execution_count": 1,
=======
   "execution_count": 16,
>>>>>>> utils
   "metadata": {},
   "outputs": [],
   "source": [
    "import sys \n",
    "from uvars import topoxcale_dir \n",
<<<<<<< HEAD
    "sys.path.append(topoxcale_dir)"
=======
    "sys.path.append(topoxcale_dir)\n",
    "from topoxcale.mlxcale import mldownxcale\n",
    "from topoxcale.sagaxcale import gwrdownxcale"
>>>>>>> utils
   ]
  },
  {
   "cell_type": "code",
<<<<<<< HEAD
   "execution_count": 2,
   "metadata": {},
   "outputs": [],
   "source": [
    "from topoxcale import mldownxcale"
=======
   "execution_count": 17,
   "metadata": {},
   "outputs": [],
   "source": [
    "# import topoxcale\n",
    "# print(topoxcale.__file__)"
>>>>>>> utils
   ]
  },
  {
   "cell_type": "code",
<<<<<<< HEAD
   "execution_count": null,
   "metadata": {},
   "outputs": [],
   "source": [
    "x_path = \"/media/ljp238/12TBWolf/BRCHIEVE/TILES12/N09E105/N09E105_tdem_dem.tif\"\n",
    "y_path = \"/home/ljp238/Downloads/mkg_sprint/ROI/TILES/N09E105/N09E105_gdtm_riofill_0.tif\"\n",
    "model_name = \"/home/ljp238/Downloads/mkg_sprint/ROI/TILES/N09E105/N09E105_catboost_model.pkl\"\n",
    "out_path = \"/home/ljp238/Downloads/mkg_sprint/ROI/TILES/N09E105/N09E105_gdtm_riofill_0_DX.tif\"\n",
    "n = 0  # Set to 0 to use all data\n",
    "model_params = {'num_rounds': 1000,'verbose': 200} # use num_rounds to the model file should be joblibe too"
=======
   "execution_count": 18,
   "metadata": {},
   "outputs": [],
   "source": [
    "num_rounds = 2000\n",
    "n = 0  # Set to 0 to use all data\n",
    "sfix = \"MLD\"\n",
    "x_path = \"/media/ljp238/12TBWolf/BRCHIEVE/TILES12/N09E105/N09E105_tdem_dem.tif\"\n",
    "y_path = \"/home/ljp238/Downloads/mkg_sprint/ROI/TILES/N09E105/N09E105_gdtm_riofill_0.tif\"\n",
    "model_name = f\"/home/ljp238/Downloads/mkg_sprint/ROI/TILES/N09E105/N09E105_catboost_model_{num_rounds}.pkl\"\n",
    "out_path = f\"/home/ljp238/Downloads/mkg_sprint/ROI/TILES/N09E105/N09E105_gdtm_riofill_0_{sfix}.tif\"\n",
    "model_params = {'num_rounds': num_rounds,'verbose': 200} # use num_rounds to the model file should be joblibe too"
>>>>>>> utils
   ]
  },
  {
   "cell_type": "code",
<<<<<<< HEAD
   "execution_count": 4,
=======
   "execution_count": 19,
>>>>>>> utils
   "metadata": {},
   "outputs": [
    {
     "name": "stdout",
     "output_type": "stream",
     "text": [
<<<<<<< HEAD
      "Model /home/ljp238/Downloads/mkg_sprint/ROI/TILES/N09E105/N09E105_catboost_model.pkl already exists. Skipping training.\n",
      "Predictions saved to /home/ljp238/Downloads/mkg_sprint/ROI/TILES/N09E105/N09E105_gdtm_riofill_0_DX.tif\n",
      "Resampled /home/ljp238/Downloads/mkg_sprint/ROI/TILES/N09E105/N09E105_gdtm_riofill_0.tif to match /home/ljp238/Downloads/mkg_sprint/ROI/TILES/N09E105/N09E105_gdtm_riofill_0_DX.tif. Saved to /tmp/temp_y_resampled.tif\n",
      "Residuals saved to /home/ljp238/Downloads/mkg_sprint/ROI/TILES/N09E105/N09E105_gdtm_riofill_0_DX_residuals.tif\n",
      "Corrected predictions saved to /home/ljp238/Downloads/mkg_sprint/ROI/TILES/N09E105/N09E105_gdtm_riofill_0_DX_corrected.tif\n"
=======
      "Resolutions or CRS do not match. Resampling...\n",
      "Resampled /media/ljp238/12TBWolf/BRCHIEVE/TILES12/N09E105/N09E105_tdem_dem.tif to match /home/ljp238/Downloads/mkg_sprint/ROI/TILES/N09E105/N09E105_gdtm_riofill_0.tif. Saved to /tmp/temp_resampled.tif\n",
      "Learning rate set to 0.032992\n",
      "0:\tlearn: 1.4880668\ttotal: 3.51ms\tremaining: 7.01s\n",
      "200:\tlearn: 0.7429841\ttotal: 409ms\tremaining: 3.66s\n",
      "400:\tlearn: 0.7377186\ttotal: 796ms\tremaining: 3.17s\n",
      "600:\tlearn: 0.7350456\ttotal: 1.18s\tremaining: 2.75s\n",
      "800:\tlearn: 0.7337349\ttotal: 1.57s\tremaining: 2.35s\n",
      "1000:\tlearn: 0.7329493\ttotal: 1.96s\tremaining: 1.96s\n",
      "1200:\tlearn: 0.7324612\ttotal: 2.36s\tremaining: 1.57s\n",
      "1400:\tlearn: 0.7321569\ttotal: 2.75s\tremaining: 1.17s\n",
      "1600:\tlearn: 0.7319579\ttotal: 3.14s\tremaining: 783ms\n",
      "1800:\tlearn: 0.7318165\ttotal: 3.53s\tremaining: 390ms\n",
      "1999:\tlearn: 0.7317147\ttotal: 3.92s\tremaining: 0us\n",
      "Model trained and saved as /home/ljp238/Downloads/mkg_sprint/ROI/TILES/N09E105/N09E105_catboost_model_2000.pkl\n",
      "Predictions saved to /home/ljp238/Downloads/mkg_sprint/ROI/TILES/N09E105/N09E105_gdtm_riofill_0_MLD.tif\n",
      "Resampled /home/ljp238/Downloads/mkg_sprint/ROI/TILES/N09E105/N09E105_gdtm_riofill_0.tif to match /home/ljp238/Downloads/mkg_sprint/ROI/TILES/N09E105/N09E105_gdtm_riofill_0_MLD.tif. Saved to /tmp/temp_y_resampled.tif\n",
      "Residuals saved to /home/ljp238/Downloads/mkg_sprint/ROI/TILES/N09E105/N09E105_gdtm_riofill_0_MLD_residuals.tif\n",
      "Corrected predictions saved to /home/ljp238/Downloads/mkg_sprint/ROI/TILES/N09E105/N09E105_gdtm_riofill_0_MLD_corrected.tif\n"
>>>>>>> utils
     ]
    }
   ],
   "source": [
    "mldownxcale(x_path, y_path, model_name, model_params, out_path, n=0)"
   ]
  },
  {
   "cell_type": "code",
   "execution_count": null,
   "metadata": {},
   "outputs": [],
   "source": []
<<<<<<< HEAD
=======
  },
  {
   "cell_type": "code",
   "execution_count": 20,
   "metadata": {},
   "outputs": [
    {
     "name": "stdout",
     "output_type": "stream",
     "text": [
      "____________________________\n",
      "\n",
      "   #####   ##   #####    ##\n",
      "  ###     ###  ##       ###\n",
      "   ###   # ## ##  #### # ##\n",
      "    ### ##### ##    # #####\n",
      " ##### #   ##  ##### #   ##\n",
      "____________________________\n",
      "\n",
      "SAGA Version: 8.2.2\n",
      "\n",
      "____________________________\n",
      "library path: /usr/lib/x86_64-linux-gnu/saga/\n",
      "library name: libstatistics_regression\n",
      "library     : statistics_regression\n",
      "tool        : GWR for Grid Downscaling\n",
      "identifier  : 14\n",
      "author      : O.Conrad (c) 2013\n",
      "processors  : 56 [56]\n",
      "____________________________\n",
      "\n",
      "loading: N09E105_tdem_dem\n",
      "\n",
      "100%\n",
      "loading: N09E105_gdtm_riofill_0\n",
      "\n",
      " 99%\n",
      "[GWR for Grid Downscaling] Execution started...\n",
      "\n",
      "__________\n",
      "[GWR for Grid Downscaling] Parameters:\n",
      "\n",
      "Grid System: 0.000111; 9001x 9001y; 105x 9y\n",
      "Predictors: 1 object (N09E105_tdem_dem)\n",
      "Regression: Regression\n",
      "Regression with Residual Correction: <not set>\n",
      "Dependent Variable: N09E105_gdtm_riofill_0\n",
      "Coefficient of Determination: Coefficient of Determination\n",
      "Residuals: Residuals\n",
      "Regression Parameters: No objects\n",
      "Logistic Regression: false\n",
      "Output of Model Parameters: true\n",
      "Search Range: local\n",
      "Search Distance [Cells]: 10\n",
      "Weighting Function: gaussian\n",
      "Bandwidth: 4\n",
      "\n",
      "upscaling of predictors\n",
      "\n",
      " 99%\n",
      "model creation\n",
      "\n",
      " 99%downscaling\n",
      "\n",
      "101%\n",
      "__________\n",
      "total execution time: 39000 milliseconds (39s)\n",
      "\n",
      "[GWR for Grid Downscaling] Execution succeeded (39s)\n",
      "\n",
      "Saving grid: /home/ljp238/Downloads/mkg_sprint/ROI/TILES/N09E105/N09E105_gdtm_riofill_0_GWR.tif...\n",
      "Export GeoTIFF\n",
      "\n",
      "__________\n",
      "[Export GeoTIFF] Parameters:\n",
      "\n",
      "Grid System: 0.000111; 9001x 9001y; 105x 9y\n",
      "Grid(s): 1 object (N09E105_gdtm_riofill_0_GWR)\n",
      "File: /home/ljp238/Downloads/mkg_sprint/ROI/TILES/N09E105/N09E105_gdtm_riofill_0_GWR.tif\n",
      "Creation Options: \n",
      "\n",
      "Band 1\n",
      "\n",
      "100%\n",
      "100%\n",
      "\n",
      "[Export GeoTIFF] execution time: 02s\n",
      "okay\n",
      "! The file \"/home/ljp238/Downloads/mkg_sprint/ROI/TILES/N09E105/N09E105_gdtm_riofill_0_GWR.tif\" already exists.\n",
      "GWR Grid Downscaling completed.\n"
     ]
    },
    {
     "name": "stderr",
     "output_type": "stream",
     "text": [
      "Segmentation fault (core dumped)\n"
     ]
    }
   ],
   "source": [
    "sfix = \"GWR\"\n",
    "xpath = \"/media/ljp238/12TBWolf/BRCHIEVE/TILES12/N09E105/N09E105_tdem_dem.tif\"\n",
    "ypath = \"/home/ljp238/Downloads/mkg_sprint/ROI/TILES/N09E105/N09E105_gdtm_riofill_0.tif\"\n",
    "out_path = f\"/home/ljp238/Downloads/mkg_sprint/ROI/TILES/N09E105/N09E105_gdtm_riofill_0_{sfix}.tif\"\n",
    "gwrdownxcale(xpath, ypath, out_path,oaux=False,epsg_code=4979, clean=False) \n",
    "# save each his own dif becase of Clean=True"
   ]
  },
  {
   "cell_type": "code",
   "execution_count": null,
   "metadata": {},
   "outputs": [],
   "source": [
    "# both of them are workig \n",
    "# remove auxliarfiles from github "
   ]
>>>>>>> utils
  }
 ],
 "metadata": {
  "kernelspec": {
   "display_name": "agluon",
   "language": "python",
   "name": "python3"
  },
  "language_info": {
   "codemirror_mode": {
    "name": "ipython",
    "version": 3
   },
   "file_extension": ".py",
   "mimetype": "text/x-python",
   "name": "python",
   "nbconvert_exporter": "python",
   "pygments_lexer": "ipython3",
   "version": "3.11.11"
  }
 },
 "nbformat": 4,
 "nbformat_minor": 2
}
