{
 "cells": [
  {
   "cell_type": "code",
   "execution_count": 1,
   "metadata": {},
   "outputs": [],
   "source": [
    "import sys \n",
    "from uvars import topoxcale_dir \n",
    "sys.path.append(topoxcale_dir)\n",
    "from topoxcale.mlxcale import mldownxcale\n",
    "from topoxcale.sagaxcale import gwrdownxcale\n",
    "from utilenames import tilenames_mkd"
   ]
  },
  {
   "cell_type": "code",
   "execution_count": null,
   "metadata": {},
   "outputs": [
    {
     "name": "stdout",
     "output_type": "stream",
     "text": [
      "____________________________\n",
      "\n",
      "   #####   ##   #####    ##\n",
      "  ###     ###  ##       ###\n",
      "   ###   # ## ##  #### # ##\n",
      "    ### ##### ##    # #####\n",
      " ##### #   ##  ##### #   ##\n",
      "____________________________\n",
      "\n",
      "SAGA Version: 8.2.2\n",
      "\n",
      "____________________________\n",
      "library path: /usr/lib/x86_64-linux-gnu/saga/\n",
      "library name: libstatistics_regression\n",
      "library     : statistics_regression\n",
      "tool        : GWR for Grid Downscaling\n",
      "identifier  : 14\n",
      "author      : O.Conrad (c) 2013\n",
      "processors  : 56 [56]\n",
      "____________________________\n",
      "\n",
      "loading: N09E105_tdem_dem\n",
      "\n",
      "100%\n",
      "loading: N09E105_gdtm_riofill_0\n",
      "\n",
      " 99%\n",
      "[GWR for Grid Downscaling] Execution started...\n",
      "\n",
      "__________\n",
      "[GWR for Grid Downscaling] Parameters:\n",
      "\n",
      "Grid System: 0.000111; 9001x 9001y; 105x 9y\n",
      "Predictors: 1 object (N09E105_tdem_dem)\n",
      "Regression: Regression\n",
      "Regression with Residual Correction: <not set>\n",
      "Dependent Variable: N09E105_gdtm_riofill_0\n",
      "Coefficient of Determination: Coefficient of Determination\n",
      "Residuals: Residuals\n",
      "Regression Parameters: No objects\n",
      "Logistic Regression: false\n",
      "Output of Model Parameters: true\n",
      "Search Range: local\n",
      "Search Distance [Cells]: 10\n",
      "Weighting Function: gaussian\n",
      "Bandwidth: 4\n",
      "\n",
      "upscaling of predictors\n",
      "\n",
      " 99%\n",
      "model creation\n",
      "\n",
      " 99%downscaling\n",
      "\n",
      "101%\n",
      "__________\n",
      "total execution time: 52000 milliseconds (52s)\n",
      "\n",
      "[GWR for Grid Downscaling] Execution succeeded (52s)\n",
      "\n",
      "Saving grid: /home/ljp238/Downloads/mkg_sprint/ROI/TILES/N09E105/N09E105_gdtm_riofill_0_GWR.tif...\n",
      "Export GeoTIFF\n",
      "\n",
      "__________\n",
      "[Export GeoTIFF] Parameters:\n",
      "\n",
      "Grid System: 0.000111; 9001x 9001y; 105x 9y\n",
      "Grid(s): 1 object (N09E105_gdtm_riofill_0_GWR)\n",
      "File: /home/ljp238/Downloads/mkg_sprint/ROI/TILES/N09E105/N09E105_gdtm_riofill_0_GWR.tif\n",
      "Creation Options: \n",
      "\n",
      "Band 1\n",
      "\n",
      "100%\n",
      "100%\n",
      "\n",
      "[Export GeoTIFF] execution time: 03s\n",
      "okay\n"
     ]
    },
    {
     "name": "stderr",
     "output_type": "stream",
     "text": [
      "Segmentation fault (core dumped)\n"
     ]
    },
    {
     "name": "stdout",
     "output_type": "stream",
     "text": [
      "! The file \"/home/ljp238/Downloads/mkg_sprint/ROI/TILES/N09E105/N09E105_gdtm_riofill_0_GWR.tif\" already exists.\n",
      "GWR Grid Downscaling completed.\n",
      "____________________________\n",
      "\n",
      "   #####   ##   #####    ##\n",
      "  ###     ###  ##       ###\n",
      "   ###   # ## ##  #### # ##\n",
      "    ### ##### ##    # #####\n",
      " ##### #   ##  ##### #   ##\n",
      "____________________________\n",
      "\n",
      "SAGA Version: 8.2.2\n",
      "\n"
     ]
    }
   ],
   "source": [
    "\n",
    "sfix = \"GWR\"\n",
    "for tilename in tilenames_mkd:\n",
    "    xpath = f\"/media/ljp238/12TBWolf/BRCHIEVE/TILES12/{tilename}/{tilename}_tdem_dem.tif\"\n",
    "    ypath = f\"/home/ljp238/Downloads/mkg_sprint/ROI/TILES/{tilename}/{tilename}_gdtm_riofill_0.tif\"\n",
    "    out_path = ypath.replace('.tif', f'_{sfix}.tif')\n",
    "    gwrdownxcale(xpath, ypath, out_path,oaux=False,epsg_code=4979, clean=False) "
   ]
  },
  {
   "cell_type": "code",
   "execution_count": null,
   "metadata": {},
   "outputs": [],
   "source": []
  }
 ],
 "metadata": {
  "kernelspec": {
   "display_name": "agluon",
   "language": "python",
   "name": "python3"
  },
  "language_info": {
   "codemirror_mode": {
    "name": "ipython",
    "version": 3
   },
   "file_extension": ".py",
   "mimetype": "text/x-python",
   "name": "python",
   "nbconvert_exporter": "python",
   "pygments_lexer": "ipython3",
   "version": "3.11.11"
  }
 },
 "nbformat": 4,
 "nbformat_minor": 2
}
