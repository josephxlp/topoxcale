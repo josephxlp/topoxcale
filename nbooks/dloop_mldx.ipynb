{
 "cells": [
  {
   "cell_type": "code",
   "execution_count": 1,
   "metadata": {},
   "outputs": [],
   "source": [
    "import sys \n",
    "from uvars import topoxcale_dir \n",
    "sys.path.append(topoxcale_dir)\n",
    "from topoxcale.mlxcale import mldownxcale\n",
    "from topoxcale.sagaxcale import gwrdownxcale\n",
    "from utilenames import tilenames_mkd"
   ]
  },
  {
   "cell_type": "code",
   "execution_count": 4,
   "metadata": {},
   "outputs": [],
   "source": [
    "tilename = tilenames_mkd[0]"
   ]
  },
  {
   "cell_type": "code",
   "execution_count": null,
   "metadata": {},
   "outputs": [
    {
     "name": "stdout",
     "output_type": "stream",
     "text": [
      "Model /home/ljp238/Downloads/mkg_sprint/ROI/TILES/N09E105/N09E105_gdtm_riofill_0._2000.pkl already exists. Skipping training.\n",
      "Predictions saved to /home/ljp238/Downloads/mkg_sprint/ROI/TILES/N09E105/N09E105_gdtm_riofill_0._MLD.tif\n",
      "Resampled /home/ljp238/Downloads/mkg_sprint/ROI/TILES/N09E105/N09E105_gdtm_riofill_0.tif to match /home/ljp238/Downloads/mkg_sprint/ROI/TILES/N09E105/N09E105_gdtm_riofill_0._MLD.tif. Saved to /tmp/temp_y_resampled.tif\n",
      "Residuals saved to /home/ljp238/Downloads/mkg_sprint/ROI/TILES/N09E105/N09E105_gdtm_riofill_0._MLD_residuals.tif\n",
      "Corrected predictions saved to /home/ljp238/Downloads/mkg_sprint/ROI/TILES/N09E105/N09E105_gdtm_riofill_0._MLD_corrected.tif\n",
      "Resolutions or CRS do not match. Resampling...\n",
      "Resampled /media/ljp238/12TBWolf/BRCHIEVE/TILES12/N09E106/N09E106_tdem_dem.tif to match /home/ljp238/Downloads/mkg_sprint/ROI/TILES/N09E106/N09E106_gdtm_riofill_0.tif. Saved to /tmp/temp_resampled.tif\n",
      "Learning rate set to 0.032992\n",
      "0:\tlearn: 0.7513123\ttotal: 49.6ms\tremaining: 1m 39s\n",
      "200:\tlearn: 0.6541590\ttotal: 459ms\tremaining: 4.11s\n",
      "400:\tlearn: 0.6514579\ttotal: 843ms\tremaining: 3.36s\n",
      "600:\tlearn: 0.6491078\ttotal: 1.23s\tremaining: 2.86s\n",
      "800:\tlearn: 0.6477641\ttotal: 1.61s\tremaining: 2.41s\n",
      "1000:\tlearn: 0.6468753\ttotal: 1.99s\tremaining: 1.99s\n",
      "1200:\tlearn: 0.6463613\ttotal: 2.37s\tremaining: 1.58s\n",
      "1400:\tlearn: 0.6459648\ttotal: 2.75s\tremaining: 1.18s\n",
      "1600:\tlearn: 0.6456892\ttotal: 3.13s\tremaining: 781ms\n",
      "1800:\tlearn: 0.6455005\ttotal: 3.52s\tremaining: 388ms\n",
      "1999:\tlearn: 0.6453792\ttotal: 3.9s\tremaining: 0us\n",
      "Model trained and saved as /home/ljp238/Downloads/mkg_sprint/ROI/TILES/N09E106/N09E106_gdtm_riofill_0._2000.pkl\n",
      "Predictions saved to /home/ljp238/Downloads/mkg_sprint/ROI/TILES/N09E106/N09E106_gdtm_riofill_0._MLD.tif\n",
      "Resampled /home/ljp238/Downloads/mkg_sprint/ROI/TILES/N09E106/N09E106_gdtm_riofill_0.tif to match /home/ljp238/Downloads/mkg_sprint/ROI/TILES/N09E106/N09E106_gdtm_riofill_0._MLD.tif. Saved to /tmp/temp_y_resampled.tif\n",
      "Residuals saved to /home/ljp238/Downloads/mkg_sprint/ROI/TILES/N09E106/N09E106_gdtm_riofill_0._MLD_residuals.tif\n",
      "Corrected predictions saved to /home/ljp238/Downloads/mkg_sprint/ROI/TILES/N09E106/N09E106_gdtm_riofill_0._MLD_corrected.tif\n",
      "Resolutions or CRS do not match. Resampling...\n",
      "Resampled /media/ljp238/12TBWolf/BRCHIEVE/TILES12/N10E104/N10E104_tdem_dem.tif to match /home/ljp238/Downloads/mkg_sprint/ROI/TILES/N10E104/N10E104_gdtm_riofill_0.tif. Saved to /tmp/temp_resampled.tif\n",
      "Learning rate set to 0.032881\n",
      "0:\tlearn: 100.0402544\ttotal: 2.84ms\tremaining: 5.67s\n",
      "200:\tlearn: 42.9446018\ttotal: 404ms\tremaining: 3.62s\n",
      "400:\tlearn: 42.7734773\ttotal: 777ms\tremaining: 3.1s\n",
      "600:\tlearn: 42.7226431\ttotal: 1.15s\tremaining: 2.67s\n",
      "800:\tlearn: 42.7091290\ttotal: 1.51s\tremaining: 2.27s\n",
      "1000:\tlearn: 42.7040134\ttotal: 1.89s\tremaining: 1.89s\n",
      "1200:\tlearn: 42.7018233\ttotal: 2.26s\tremaining: 1.5s\n",
      "1400:\tlearn: 42.7003569\ttotal: 2.63s\tremaining: 1.13s\n",
      "1600:\tlearn: 42.6995642\ttotal: 3s\tremaining: 748ms\n",
      "1800:\tlearn: 42.6990402\ttotal: 3.37s\tremaining: 373ms\n",
      "1999:\tlearn: 42.6987196\ttotal: 3.75s\tremaining: 0us\n",
      "Model trained and saved as /home/ljp238/Downloads/mkg_sprint/ROI/TILES/N10E104/N10E104_gdtm_riofill_0._2000.pkl\n",
      "Predictions saved to /home/ljp238/Downloads/mkg_sprint/ROI/TILES/N10E104/N10E104_gdtm_riofill_0._MLD.tif\n",
      "Resampled /home/ljp238/Downloads/mkg_sprint/ROI/TILES/N10E104/N10E104_gdtm_riofill_0.tif to match /home/ljp238/Downloads/mkg_sprint/ROI/TILES/N10E104/N10E104_gdtm_riofill_0._MLD.tif. Saved to /tmp/temp_y_resampled.tif\n",
      "Residuals saved to /home/ljp238/Downloads/mkg_sprint/ROI/TILES/N10E104/N10E104_gdtm_riofill_0._MLD_residuals.tif\n",
      "Corrected predictions saved to /home/ljp238/Downloads/mkg_sprint/ROI/TILES/N10E104/N10E104_gdtm_riofill_0._MLD_corrected.tif\n",
      "Resolutions or CRS do not match. Resampling...\n",
      "Resampled /media/ljp238/12TBWolf/BRCHIEVE/TILES12/N10E105/N10E105_tdem_dem.tif to match /home/ljp238/Downloads/mkg_sprint/ROI/TILES/N10E105/N10E105_gdtm_riofill_0.tif. Saved to /tmp/temp_resampled.tif\n",
      "Learning rate set to 0.032936\n",
      "0:\tlearn: 2.1059617\ttotal: 2.99ms\tremaining: 5.97s\n",
      "200:\tlearn: 1.4904553\ttotal: 686ms\tremaining: 6.14s\n",
      "400:\tlearn: 1.4879795\ttotal: 1.37s\tremaining: 5.46s\n",
      "600:\tlearn: 1.4867350\ttotal: 2.08s\tremaining: 4.84s\n",
      "800:\tlearn: 1.4860426\ttotal: 2.51s\tremaining: 3.76s\n",
      "1000:\tlearn: 1.4856720\ttotal: 2.91s\tremaining: 2.9s\n",
      "1200:\tlearn: 1.4854271\ttotal: 3.3s\tremaining: 2.19s\n",
      "1400:\tlearn: 1.4852787\ttotal: 3.69s\tremaining: 1.58s\n",
      "1600:\tlearn: 1.4851828\ttotal: 4.08s\tremaining: 1.02s\n",
      "1800:\tlearn: 1.4851192\ttotal: 4.47s\tremaining: 494ms\n",
      "1999:\tlearn: 1.4850758\ttotal: 4.86s\tremaining: 0us\n",
      "Model trained and saved as /home/ljp238/Downloads/mkg_sprint/ROI/TILES/N10E105/N10E105_gdtm_riofill_0._2000.pkl\n",
      "Predictions saved to /home/ljp238/Downloads/mkg_sprint/ROI/TILES/N10E105/N10E105_gdtm_riofill_0._MLD.tif\n",
      "Resampled /home/ljp238/Downloads/mkg_sprint/ROI/TILES/N10E105/N10E105_gdtm_riofill_0.tif to match /home/ljp238/Downloads/mkg_sprint/ROI/TILES/N10E105/N10E105_gdtm_riofill_0._MLD.tif. Saved to /tmp/temp_y_resampled.tif\n"
     ]
    }
   ],
   "source": [
    "num_rounds = 2000\n",
    "n = 0  # Set to 0 to use all data\n",
    "sfix = \"MLD\"\n",
    "for tilename in tilenames_mkd:\n",
    "    x_path = f\"/media/ljp238/12TBWolf/BRCHIEVE/TILES12/{tilename}/{tilename}_tdem_dem.tif\"\n",
    "    y_path = f\"/home/ljp238/Downloads/mkg_sprint/ROI/TILES/{tilename}/{tilename}_gdtm_riofill_0.tif\"\n",
    "    model_name = y_path.replace('tif', f'_{num_rounds}.pkl')\n",
    "    out_path = y_path.replace('.tif', f'_{sfix}.tif')\n",
    "    model_params = {'num_rounds': num_rounds,'verbose': 200}\n",
    "    mldownxcale(x_path, y_path, model_name, model_params, out_path, n=0) # because no GPU do continual learning"
   ]
  },
  {
   "cell_type": "code",
   "execution_count": null,
   "metadata": {},
   "outputs": [],
   "source": []
  }
 ],
 "metadata": {
  "kernelspec": {
   "display_name": "agluon",
   "language": "python",
   "name": "python3"
  },
  "language_info": {
   "codemirror_mode": {
    "name": "ipython",
    "version": 3
   },
   "file_extension": ".py",
   "mimetype": "text/x-python",
   "name": "python",
   "nbconvert_exporter": "python",
   "pygments_lexer": "ipython3",
   "version": "3.11.11"
  }
 },
 "nbformat": 4,
 "nbformat_minor": 2
}
